{
 "cells": [
  {
   "cell_type": "markdown",
   "metadata": {
    "id": "view-in-github"
   },
   "source": [
    "[![Open In Colab](https://colab.research.google.com/assets/colab-badge.svg)](https://colab.research.google.com/github/camenduru/gaussian-splatting-colab/blob/main/gaussian_splatting_viewer_colab.ipynb)"
   ]
  },
  {
   "metadata": {
    "ExecuteTime": {
     "end_time": "2024-11-19T14:52:38.495302Z",
     "start_time": "2024-11-19T14:52:17.066267Z"
    }
   },
   "cell_type": "code",
   "source": [
    "#!git clone https://github.com/camenduru/splat\n",
    "# Check if the operating system is macOS\n",
    "import platform\n",
    "import subprocess\n",
    "\n",
    "if platform.system() == 'Darwin':\n",
    "    # Install cloudflared using Homebrew on macOS\n",
    "    subprocess.run(['brew', 'install', 'cloudflared'])\n",
    "else:\n",
    "    # Original commands for Linux\n",
    "    !wget https://github.com/cloudflare/cloudflared/releases/latest/download/cloudflared-linux-amd64.deb -O /content/cloudflared-linux-amd64.deb\n",
    "    !dpkg -i cloudflared-linux-amd64.deb"
   ],
   "outputs": [
    {
     "name": "stderr",
     "output_type": "stream",
     "text": [
      "==> Auto-updating Homebrew...\n",
      "Adjust how often this is run with HOMEBREW_AUTO_UPDATE_SECS or disable with\n",
      "HOMEBREW_NO_AUTO_UPDATE. Hide these hints with HOMEBREW_NO_ENV_HINTS (see `man brew`).\n",
      "==> Auto-updated Homebrew!\n",
      "Updated 2 taps (homebrew/core and homebrew/cask).\n",
      "==> New Formulae\n",
      "beautysh\n",
      "bibtex-tidy\n",
      "cbfmt\n",
      "cljfmt\n",
      "dotnet@8\n",
      "energy\n",
      "mergiraf\n",
      "neocmakelsp\n",
      "screenpipe\n",
      "sigsum-go\n",
      "==> New Casks\n",
      "beyond-compare@4\n",
      "djstudio\n",
      "font-departure-mono-nerd-font\n",
      "font-maple-mono-nf\n",
      "font-montserrat-underline\n",
      "kimis\n",
      "last-window-quits\n",
      "pixpin\n",
      "teleport\n",
      "\n",
      "You have 3 outdated formulae and 1 outdated cask installed.\n",
      "\n"
     ]
    },
    {
     "name": "stdout",
     "output_type": "stream",
     "text": [
      "==> Downloading https://ghcr.io/v2/homebrew/core/cloudflared/manifests/2024.11.0\n",
      "==> Fetching cloudflared\n",
      "==> Downloading https://ghcr.io/v2/homebrew/core/cloudflared/blobs/sha256:0ecd402f4ed52c392f3031a5881b5a974ab9084fc098bba46d305bdb561cf858\n",
      "==> Pouring cloudflared--2024.11.0.arm64_sequoia.bottle.tar.gz\n",
      "🍺  /opt/homebrew/Cellar/cloudflared/2024.11.0: 8 files, 36.1MB\n",
      "==> Running `brew cleanup cloudflared`...\n",
      "Disable this behaviour by setting HOMEBREW_NO_INSTALL_CLEANUP.\n",
      "Hide these hints with HOMEBREW_NO_ENV_HINTS (see `man brew`).\n"
     ]
    }
   ],
   "execution_count": 2
  },
  {
   "metadata": {
    "ExecuteTime": {
     "end_time": "2024-11-19T14:53:10.913619Z",
     "start_time": "2024-11-19T14:53:10.910855Z"
    }
   },
   "cell_type": "code",
   "source": [
    "import atexit, requests, time, re, os\n",
    "from random import randint\n",
    "from threading import Timer\n",
    "from queue import Queue"
   ],
   "outputs": [],
   "execution_count": 3
  },
  {
   "cell_type": "code",
   "metadata": {
    "ExecuteTime": {
     "end_time": "2024-11-19T14:58:14.136431Z",
     "start_time": "2024-11-19T14:55:35.107669Z"
    }
   },
   "source": [
    "def cloudflared(port, metrics_port, output_queue):\n",
    "    atexit.register(lambda p: p.terminate(), subprocess.Popen(['cloudflared', 'tunnel', '--url', f'http://127.0.0.1:{port}', '--metrics', f'127.0.0.1:{metrics_port}'], stdout=subprocess.DEVNULL, stderr=subprocess.STDOUT))\n",
    "    attempts, tunnel_url = 0, None\n",
    "    while attempts < 10 and not tunnel_url:\n",
    "        attempts += 1\n",
    "        time.sleep(3)\n",
    "        try:\n",
    "            tunnel_url = re.search(\"(?P<url>https?:\\/\\/[^\\s]+.trycloudflare.com)\", requests.get(f'http://127.0.0.1:{metrics_port}/metrics').text).group(\"url\")\n",
    "        except:\n",
    "            pass\n",
    "    if not tunnel_url:\n",
    "        raise Exception(\"Can't connect to Cloudflare Edge\")\n",
    "    output_queue.put(tunnel_url)\n",
    "output_queue, metrics_port = Queue(), randint(8100, 9000)\n",
    "thread = Timer(2, cloudflared, args=(7860, metrics_port, output_queue))\n",
    "thread.start()\n",
    "thread.join()\n",
    "tunnel_url = output_queue.get()\n",
    "os.environ['webui_url'] = tunnel_url\n",
    "print(tunnel_url)\n",
    "#%cd /content/splat\n",
    "!python -m http.server 7860"
   ],
   "outputs": [
    {
     "name": "stderr",
     "output_type": "stream",
     "text": [
      "<>:8: SyntaxWarning: invalid escape sequence '\\/'\n",
      "<>:8: SyntaxWarning: invalid escape sequence '\\/'\n",
      "/var/folders/zd/6gytrrmd0jx86dlhrkrlp1d80000gn/T/ipykernel_2890/1956468613.py:8: SyntaxWarning: invalid escape sequence '\\/'\n",
      "  tunnel_url = re.search(\"(?P<url>https?:\\/\\/[^\\s]+.trycloudflare.com)\", requests.get(f'http://127.0.0.1:{metrics_port}/metrics').text).group(\"url\")\n"
     ]
    },
    {
     "name": "stdout",
     "output_type": "stream",
     "text": [
      "https://salem-saddam-jail-flash.trycloudflare.com\n",
      "Serving HTTP on :: port 7860 (http://[::]:7860/) ...\r\n",
      "::ffff:127.0.0.1 - - [19/Nov/2024 15:56:53] \"GET / HTTP/1.1\" 200 -\r\n",
      "::ffff:127.0.0.1 - - [19/Nov/2024 15:56:53] code 404, message File not found\r\n",
      "::ffff:127.0.0.1 - - [19/Nov/2024 15:56:53] \"GET /favicon.ico HTTP/1.1\" 404 -\r\n",
      "::ffff:127.0.0.1 - - [19/Nov/2024 15:56:58] \"GET / HTTP/1.1\" 200 -\r\n",
      "::ffff:127.0.0.1 - - [19/Nov/2024 15:56:58] \"GET / HTTP/1.1\" 200 -\r\n",
      "::ffff:127.0.0.1 - - [19/Nov/2024 15:56:58] \"GET / HTTP/1.1\" 200 -\r\n",
      "::ffff:127.0.0.1 - - [19/Nov/2024 15:56:59] \"GET / HTTP/1.1\" 200 -\r\n",
      "::ffff:127.0.0.1 - - [19/Nov/2024 15:56:59] code 404, message File not found\r\n",
      "::ffff:127.0.0.1 - - [19/Nov/2024 15:56:59] \"GET /favicon.ico HTTP/1.1\" 404 -\r\n",
      "::ffff:127.0.0.1 - - [19/Nov/2024 15:57:02] \"GET /README.md HTTP/1.1\" 200 -\r\n",
      "::ffff:127.0.0.1 - - [19/Nov/2024 15:57:18] \"GET /gaussian_splatting_colab.ipynb HTTP/1.1\" 200 -\r\n",
      "^C\r\n",
      "\r\n",
      "Keyboard interrupt received, exiting.\r\n"
     ]
    }
   ],
   "execution_count": 5
  },
  {
   "metadata": {},
   "cell_type": "code",
   "outputs": [],
   "execution_count": null,
   "source": ""
  }
 ],
 "metadata": {
  "colab": {
   "provenance": []
  },
  "kernelspec": {
   "display_name": "Python 3 (ipykernel)",
   "name": "python3",
   "language": "python"
  },
  "language_info": {
   "name": "python"
  }
 },
 "nbformat": 4,
 "nbformat_minor": 0
}
